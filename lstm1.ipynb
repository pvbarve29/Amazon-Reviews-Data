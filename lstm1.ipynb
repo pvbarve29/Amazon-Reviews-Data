{
  "nbformat": 4,
  "nbformat_minor": 0,
  "metadata": {
    "colab": {
      "name": "lstm1.ipynb",
      "version": "0.3.2",
      "provenance": [],
      "collapsed_sections": [],
      "include_colab_link": true
    },
    "kernelspec": {
      "name": "python3",
      "display_name": "Python 3"
    },
    "accelerator": "GPU"
  },
  "cells": [
    {
      "cell_type": "markdown",
      "metadata": {
        "id": "view-in-github",
        "colab_type": "text"
      },
      "source": [
        "<a href=\"https://colab.research.google.com/github/pvbarve29/Amazon-Reviews-Data/blob/master/lstm1.ipynb\" target=\"_parent\"><img src=\"https://colab.research.google.com/assets/colab-badge.svg\" alt=\"Open In Colab\"/></a>"
      ]
    },
    {
      "metadata": {
        "id": "nr_gOgsaF5US",
        "colab_type": "code",
        "outputId": "9904ceef-5b51-4c86-b5e3-1c533bd10066",
        "colab": {
          "base_uri": "https://localhost:8080/",
          "height": 127
        }
      },
      "cell_type": "code",
      "source": [
        "from google.colab import drive\n",
        "drive.mount('/content/drive')"
      ],
      "execution_count": 0,
      "outputs": [
        {
          "output_type": "stream",
          "text": [
            "Go to this URL in a browser: https://accounts.google.com/o/oauth2/auth?client_id=947318989803-6bn6qk8qdgf4n4g3pfee6491hc0brc4i.apps.googleusercontent.com&redirect_uri=urn%3Aietf%3Awg%3Aoauth%3A2.0%3Aoob&scope=email%20https%3A%2F%2Fwww.googleapis.com%2Fauth%2Fdocs.test%20https%3A%2F%2Fwww.googleapis.com%2Fauth%2Fdrive%20https%3A%2F%2Fwww.googleapis.com%2Fauth%2Fdrive.photos.readonly%20https%3A%2F%2Fwww.googleapis.com%2Fauth%2Fpeopleapi.readonly&response_type=code\n",
            "\n",
            "Enter your authorization code:\n",
            "··········\n",
            "Mounted at /content/drive\n"
          ],
          "name": "stdout"
        }
      ]
    },
    {
      "metadata": {
        "id": "9yfbHRMLGBpB",
        "colab_type": "code",
        "outputId": "7e2c9f08-f63e-49bb-8214-f1f1d33bf20e",
        "colab": {
          "base_uri": "https://localhost:8080/",
          "height": 125
        }
      },
      "cell_type": "code",
      "source": [
        "import numpy as np # linear algebra\n",
        "import pandas as pd # data processing, CSV file I/O (e.g. pd.read_csv)\n",
        "import bz2\n",
        "import re\n",
        "from matplotlib import pyplot as plt\n",
        "from keras.preprocessing.text import Tokenizer\n",
        "from keras.preprocessing.sequence import pad_sequences\n",
        "from keras.models import Sequential\n",
        "from keras.layers import Embedding,LSTM,Dropout,Dense\n",
        "from keras.utils import to_categorical\n",
        "from keras.callbacks import EarlyStopping\n",
        "from nltk.corpus import stopwords\n",
        "from sklearn.model_selection import train_test_split\n",
        "from sklearn.preprocessing import LabelBinarizer\n",
        "from keras.layers import SpatialDropout1D\n",
        "\n",
        "#trainFile='/content/drive/My Drive/train.ft.txt.bz2'\n",
        "#file=bz2.BZ2File(trainFile,'r')\n",
        "#lines=file.readlines()\n",
        "\n",
        "train_file = bz2.BZ2File('/content/drive/My Drive/BE Project/Sentiment analysis/datasets/train.ft.txt.bz2')\n",
        "train_lines = train_file.readlines()\n",
        "train_lines = [x.decode('utf-8') for x in train_lines]\n",
        "\n",
        "test_file = bz2.BZ2File('/content/drive/My Drive/BE Project/Sentiment analysis/datasets/test.ft.txt.bz2')\n",
        "test_lines = test_file.readlines()\n",
        "test_lines = [x.decode('utf-8') for x in test_lines]\n",
        "\n",
        "docSentimentList=[]\n",
        "def getDocumentSentimentList(docs,splitStr='__label__'):\n",
        "    for i in range(len(docs)):\n",
        "        text=str(docs[i])\n",
        "        splitText=text.split(splitStr)\n",
        "        secHalf=splitText[1]\n",
        "        text=secHalf[2:len(secHalf)-1]\n",
        "        sentiment=secHalf[0]\n",
        "        docSentimentList.append([text,sentiment])\n",
        "    return docSentimentList\n",
        "  \n",
        "docSentimentList=getDocumentSentimentList(train_lines,splitStr = '__label__')\n",
        "train_DF=pd.DataFrame(docSentimentList,columns=['TEXT','SENTIMENT'])\n",
        "X_train=train_DF['TEXT']\n",
        "y_train=train_DF['SENTIMENT']\n",
        "y_train=y_train.astype('int32')\n",
        "lb=LabelBinarizer(pos_label=1,neg_label=0)\n",
        "y_train_binarized=lb.fit_transform(y_train)\n",
        "y_train=to_categorical(num_classes=2,y=y_train_binarized)\n",
        "\n",
        "\n",
        "docSentimentList=getDocumentSentimentList(test_lines,splitStr = '__label__')\n",
        "test_DF=pd.DataFrame(docSentimentList,columns=['TEXT','SENTIMENT'])\n",
        "X_test=test_DF['TEXT']\n",
        "y_test=test_DF['SENTIMENT']\n",
        "y_test=y_test.astype('int32')\n",
        "lb=LabelBinarizer(pos_label=1,neg_label=0)\n",
        "y_test_binarized=lb.fit_transform(y_test)\n",
        "y_test=to_categorical(num_classes=2,y=y_test_binarized)\n",
        "\n",
        "print(\"tokenizing training data\")\n",
        "tok=Tokenizer(num_words=100000,lower=True)\n",
        "tok.fit_on_texts(X_train)\n",
        "print(\"Sequencing training data\")\n",
        "seqs=tok.texts_to_sequences(X_train)\n",
        "train_padded_seqs=pad_sequences(seqs,maxlen=100)\n",
        "\n",
        "print(\"tokenizing testing data\")\n",
        "tok.fit_on_texts(X_test)\n",
        "print(\"tokenizing done!!\")\n",
        "print(\"Sequencing testing data\")\n",
        "seqs1=tok.texts_to_sequences(X_test)\n",
        "test_padded_seqs=pad_sequences(seqs1,maxlen=100)\n",
        "print(\"Sequencing done!!!\")\n",
        "\n",
        "def createLSTM():\n",
        "    model = Sequential()\n",
        "    model.add(Embedding(100000, 100))\n",
        "    model.add(SpatialDropout1D(0.4))\n",
        "    model.add(LSTM(512, dropout=0.2, recurrent_dropout=0.2))\n",
        "    model.add(Dense(2,activation='softmax'))\n",
        "    return model\n",
        "model=createLSTM()\n",
        "\n",
        "model.compile(loss = 'categorical_crossentropy', optimizer='adam',metrics = ['accuracy'])\n",
        "earlyStopping=EarlyStopping(patience=3,monitor='acc',min_delta=0.0001,verbose=1)\n",
        "callbackslist=[earlyStopping]\n",
        "model.fit(X_train,y_train,batch_size=512,epochs=5,verbose=1,callbacks=callbackslist,validation_split = 0.1)\n",
        "\n",
        "loss,acc = model.evaluate(X_test, y_test, verbose = 1, batch_size = 512)\n",
        "print(\"loss = \"+ str(loss) + \"accuracy = \"+str(acc))\n",
        "\n",
        "idx=np.random.randint(len(X))\n",
        "test=[X[idx]]\n",
        "print(test)\n",
        "print('RESULT:')\n",
        "pred=model.predict(pad_sequences(tok.texts_to_sequences(test),maxlen=100))\n",
        "print(np.argmax(pred))\n",
        "if np.argmax(pred)==0:\n",
        "    print('NEG')\n",
        "else:\n",
        "    print('POS')"
      ],
      "execution_count": 0,
      "outputs": [
        {
          "output_type": "stream",
          "text": [
            "Using TensorFlow backend.\n"
          ],
          "name": "stderr"
        },
        {
          "output_type": "stream",
          "text": [
            "tokenizing training data\n",
            "Sequencing training data\n",
            "tokenizing testing data\n",
            "tokenizing done!!\n",
            "Sequencing testing data\n"
          ],
          "name": "stdout"
        }
      ]
    }
  ]
}